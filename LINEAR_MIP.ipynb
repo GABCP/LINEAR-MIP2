{
  "nbformat": 4,
  "nbformat_minor": 0,
  "metadata": {
    "colab": {
      "name": "LINEAR MIP",
      "provenance": [],
      "include_colab_link": true
    },
    "kernelspec": {
      "name": "python3",
      "display_name": "Python 3"
    }
  },
  "cells": [
    {
      "cell_type": "markdown",
      "metadata": {
        "id": "view-in-github",
        "colab_type": "text"
      },
      "source": [
        "<a href=\"https://colab.research.google.com/github/GABCP/LINEAR-MIP2/blob/master/LINEAR_MIP.ipynb\" target=\"_parent\"><img src=\"https://colab.research.google.com/assets/colab-badge.svg\" alt=\"Open In Colab\"/></a>"
      ]
    },
    {
      "cell_type": "markdown",
      "metadata": {
        "id": "Qv2q8w5jDdGh",
        "colab_type": "text"
      },
      "source": [
        "La empresa el SAMÁN Ltda. Dedicada a la fabricación de muebles, ha ampliado su producción en dos líneas más. Por lo tanto actualmente fabrica mesas, sillas, camas y bibliotecas. Cada mesa requiere de 2 piezas rectangulares de 8 pines, y 2 piezas cuadradas de 4 pines. Cada silla requiere de 1 pieza rectangular de 8 pines y 2 piezas cuadradas de 4 pines, cada cama requiere de 1 pieza rectangular de 8 pines, 1 cuadrada de 4 pines y 2 bases trapezoidales de 2 pines y finalmente cada biblioteca requiere de 2 piezas rectangulares de 8 pines, 2 bases trapezoidales de 2 pines y 4 piezas rectangulares de 2 pines. Cada mesa cuesta producirla $10000 y se vende en $ 30000, cada silla cuesta producirla $ 8000 y se vende en $ 28000, cada cama cuesta producirla $ 20000 y se vende en $ 40000, cada biblioteca cuesta producirla $ 40000 y se vende en $ 60000. El objetivo de la fábrica es maximizar las utilidades.\n",
        "Las variables:\n",
        "X1 = Cantidad de mesas a producir (unidades)\n",
        "X2 = Cantidad de sillas a producir (unidades)\n",
        "X3 = Cantidad de camas a producir (unidades)\n",
        "X4 = Cantidad de bibliotecas a producir (unidades)\n",
        "Las restricciones:\n",
        "2X1 + 1X2 + 1X3 + 2X4 <= 24               \n",
        "2X1 + 2X2 + 1X3 <= 20                     \n",
        "2X3 + 2X4 <= 20                            \n",
        "4X4 <= 16                          \n",
        "La función Objetivo:\n",
        "\n",
        "MAX = 20000X1 + 20000X2 + 20000X3 + 20000X4\n"
      ]
    },
    {
      "cell_type": "code",
      "metadata": {
        "id": "lm_1LYywbpVa",
        "colab_type": "code",
        "outputId": "2a92da4b-380e-4946-c359-bb7799fe66a8",
        "colab": {
          "base_uri": "https://localhost:8080/",
          "height": 146
        }
      },
      "source": [
        "pip install pulp"
      ],
      "execution_count": 0,
      "outputs": [
        {
          "output_type": "stream",
          "text": [
            "Collecting pulp\n",
            "\u001b[?25l  Downloading https://files.pythonhosted.org/packages/fb/34/ff5915ff6bae91cfb7c4cc22c3c369a6aea0b2127045dd5f308a91c260ac/PuLP-2.0-py3-none-any.whl (39.2MB)\n",
            "\u001b[K     |████████████████████████████████| 39.2MB 59kB/s \n",
            "\u001b[?25hRequirement already satisfied: pyparsing>=2.0.1 in /usr/local/lib/python3.6/dist-packages (from pulp) (2.4.5)\n",
            "Installing collected packages: pulp\n",
            "Successfully installed pulp-2.0\n"
          ],
          "name": "stdout"
        }
      ]
    },
    {
      "cell_type": "code",
      "metadata": {
        "id": "59S2bXeycniH",
        "colab_type": "code",
        "outputId": "55a174f4-1287-4e1e-abe0-4bc856c6c8c0",
        "colab": {
          "base_uri": "https://localhost:8080/",
          "height": 181
        }
      },
      "source": [
        "from pulp import *\n",
        "x1 = pulp.LpVariable(\"x1\", lowBound=0)\n",
        "x2 = pulp.LpVariable(\"x2\", lowBound=0)\n",
        "x3 = pulp.LpVariable(\"x3\", lowBound=0)\n",
        "x4 = pulp.LpVariable(\"x4\", lowBound=0)\n",
        "problem = pulp.LpProblem(\"A simple max problem\", pulp.LpMaximize)\n",
        "problem += 20000*x1 + 20000*x2 + 20000*x3 + 20000*x4, \"The objective function\"\n",
        "problem += 2*x1 + 1*x2 + 1*x3 + 2*x4 <= 24, \"1st constraint\"\n",
        "problem += 2*x1 + 2*x2 + 1*x3 <= 20, \"2nd constraint\"\n",
        "problem += 2*x3 + 2*x4 <= 20, \"3rd constraint\"\n",
        "problem +=  4*x4 == 16, \"4th constraint\"\n",
        "problem.solve()\n",
        "print (\"Optimal Result:\")\n",
        "for variable in problem.variables():\n",
        "    print (variable.name, \"=\", variable.varValue)\n",
        "print (\"Total net max profit:\")\n",
        "print (value(problem.objective)) "
      ],
      "execution_count": 0,
      "outputs": [
        {
          "output_type": "stream",
          "text": [
            "Optimal Result:\n",
            "x1 = 0.0\n",
            "x2 = 7.0\n",
            "x3 = 6.0\n",
            "x4 = 4.0\n",
            "Total net max profit:\n",
            "340000.0\n"
          ],
          "name": "stdout"
        },
        {
          "output_type": "stream",
          "text": [
            "/usr/local/lib/python3.6/dist-packages/pulp/pulp.py:1137: UserWarning: Spaces are not permitted in the name. Converted to '_'\n",
            "  warnings.warn(\"Spaces are not permitted in the name. Converted to '_'\")\n"
          ],
          "name": "stderr"
        }
      ]
    }
  ]
}